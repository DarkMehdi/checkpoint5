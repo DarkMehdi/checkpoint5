{
 "cells": [
  {
   "cell_type": "markdown",
   "metadata": {},
   "source": [
    "##### Question 1:"
   ]
  },
  {
   "cell_type": "code",
   "execution_count": 1,
   "metadata": {},
   "outputs": [
    {
     "data": {
      "text/plain": [
       "(9, 10, 5)"
      ]
     },
     "execution_count": 1,
     "metadata": {},
     "output_type": "execute_result"
    }
   ],
   "source": [
    "class Point3D:\n",
    "    def __init__(self,x,y,z):\n",
    "        self.x=x\n",
    "        self.y=y\n",
    "        self.z=z\n",
    "    def points (self):\n",
    "        return self.x,self.y,self.z\n",
    "mypoint=Point3D(9,10,5)\n",
    "mypoint.points()"
   ]
  },
  {
   "cell_type": "markdown",
   "metadata": {},
   "source": [
    "##### Question 2:"
   ]
  },
  {
   "cell_type": "code",
   "execution_count": null,
   "metadata": {},
   "outputs": [],
   "source": [
    "class rectangle:\n",
    "    def __init__(self,height,width):\n",
    "        self.height=height\n",
    "        self.width=width\n",
    "    def perimiter (self):\n",
    "        rr=(self.height+self.width)*2\n",
    "        print(rr)\n",
    "    def area (self):\n",
    "        sr=self.height*self.width\n",
    "        print(sr)\n",
    "myrec=rectangle(9,6)\n",
    "myrec.perimiter()\n",
    "myrec.area()\n"
   ]
  },
  {
   "cell_type": "markdown",
   "metadata": {},
   "source": [
    "##### Question 3:"
   ]
  },
  {
   "cell_type": "code",
   "execution_count": null,
   "metadata": {},
   "outputs": [],
   "source": [
    "class circle:\n",
    "    def __init__(self,o : list[float],r : float):\n",
    "        self.center = o\n",
    "        self.radius = r\n",
    "\n",
    "    def __str__(self) -> str:\n",
    "        return f\"(Center ({self.center[0],self.center[1]}), Radius : {self.radius})\"\n",
    "    def cperimiter (self):\n",
    "        rc=self.radius*2*3.14\n",
    "        print(rc)\n",
    "    def carea (self):\n",
    "        sc=self.radius*self.radius*3.14\n",
    "        print(sc)\n",
    "    def isinside (self):\n",
    "        m = ((self.center[0]-x)**2 + (self.center[0]-y)**2)**0.5\n",
    "        return True if(m<=self.radius) else False\n",
    "mycircle=circle(4)\n",
    "mycircle.cperimiter()\n",
    "mycircle.carea()\n",
    "\n",
    "point1=(1,5)\n",
    "point2=(1,10)\n",
    "mycircle.isinside()\n",
    "\n",
    "print(f\"Circle info : {my_circle}\")\n",
    "\n",
    "print(f\"Circle ==> Area : {my_circle.area()}, Perimeter : {my_circle.perimeter()}\")\n",
    "\n",
    "print(f\"First point {my_point_1} is {'not' if(my_circle.inside(my_point_1[0],my_point_1[1])==False) else ''} inside this circle {my_circle}\")\n",
    "print(f\"Second point {my_point_2} is {'not' if(my_circle.inside(my_point_2[0],my_point_2[1])==False) else ''} inside this circle {my_circle}\")"
   ]
  },
  {
   "cell_type": "markdown",
   "metadata": {},
   "source": [
    "##### Question 4:"
   ]
  },
  {
   "cell_type": "code",
   "execution_count": 2,
   "metadata": {},
   "outputs": [
    {
     "name": "stdout",
     "output_type": "stream",
     "text": [
      "Money : Money :  500 \n",
      "amount to deposit : 100.0 \n",
      "Money : Money :  600.0 \n",
      "success\n",
      "Money : Money :  570.0 \n"
     ]
    }
   ],
   "source": [
    "class Bank:\n",
    "    def __init__(self,Money):\n",
    "        self.balance = Money\n",
    "\n",
    "    def __str__(self):\n",
    "        return f\"Money :  {self.balance} \"\n",
    "\n",
    "    def deposit(self,Money):\n",
    "        if(Money>=0):\n",
    "            self.balance += Money\n",
    "            #self.balance = self.balance+Money\n",
    "            return True\n",
    "        else:\n",
    "            return False\n",
    "\n",
    "    def withdraw(self,Money):\n",
    "        if(Money>=0 and self.balance >= Money ):\n",
    "            self.balance -= Money\n",
    "            #self.balance = self.balance-Money\n",
    "            return True\n",
    "        else:\n",
    "            return False\n",
    "\n",
    "\n",
    "account = Bank(500)\n",
    "\n",
    "print(f\"Money : {account}\")\n",
    "Money  = float(input(\"deposit:\"))\n",
    "print(f\"{'amount to deposit : {} '.format(Money) if(account.deposit(Money)==True) else 'error'}\")\n",
    "print(f\"Money : {account}\")\n",
    "Money  = float(input(\"amount to withdraw :\"))\n",
    "print(f\"{'error not enough money' if(account.withdraw(Money)==False) else 'success'}\")\n",
    "print(f\"Money : {account}\")"
   ]
  }
 ],
 "metadata": {
  "kernelspec": {
   "display_name": "Python 3.10.6 64-bit (windows store)",
   "language": "python",
   "name": "python3"
  },
  "language_info": {
   "codemirror_mode": {
    "name": "ipython",
    "version": 3
   },
   "file_extension": ".py",
   "mimetype": "text/x-python",
   "name": "python",
   "nbconvert_exporter": "python",
   "pygments_lexer": "ipython3",
   "version": "3.10.6"
  },
  "orig_nbformat": 4,
  "vscode": {
   "interpreter": {
    "hash": "b2c647202fd92a8243df08cbefe5e2fc491585904a9553be3beec1ce7c610a24"
   }
  }
 },
 "nbformat": 4,
 "nbformat_minor": 2
}
